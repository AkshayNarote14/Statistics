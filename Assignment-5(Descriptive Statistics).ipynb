{
 "cells": [
  {
   "cell_type": "code",
   "execution_count": 44,
   "id": "11abbb01",
   "metadata": {},
   "outputs": [
    {
     "name": "stdout",
     "output_type": "stream",
     "text": [
      "   Sid     Name  Gender  Marks\n",
      "0    1      Sai    male     11\n",
      "1    2      Ram    male     21\n",
      "2    3   Krishn    male     31\n",
      "3    4      Dev    male     51\n",
      "4    5  Shrijal  female     99\n",
      "5    6    Samya  female     91\n",
      "6    7      Rao    male     77\n",
      "7    8      Adi    male      1\n",
      "8    9     Jaya  female     75\n",
      "9   10    Vijay    male     71\n",
      "Mean = 52.8\n",
      "Median = 61.0\n",
      "Minimum = 1\n",
      "Maximum = 99\n",
      "Range = 98\n",
      "Deviation = 0   -41.8\n",
      "1   -31.8\n",
      "2   -21.8\n",
      "3    -1.8\n",
      "4    46.2\n",
      "5    38.2\n",
      "6    24.2\n",
      "7   -51.8\n",
      "8    22.2\n",
      "9    18.2\n",
      "Name: Marks, dtype: float64\n",
      "   Sid     Name  Gender  Marks  Marks-mean\n",
      "0    1      Sai    male     11       -41.8\n",
      "1    2      Ram    male     21       -31.8\n",
      "2    3   Krishn    male     31       -21.8\n",
      "3    4      Dev    male     51        -1.8\n",
      "4    5  Shrijal  female     99        46.2\n",
      "5    6    Samya  female     91        38.2\n",
      "6    7      Rao    male     77        24.2\n",
      "7    8      Adi    male      1       -51.8\n",
      "8    9     Jaya  female     75        22.2\n",
      "9   10    Vijay    male     71        18.2\n",
      "Mean Deviation = 2.842170943040401e-15\n",
      "Square Deviation = 0    1747.24\n",
      "1    1011.24\n",
      "2     475.24\n",
      "3       3.24\n",
      "4    2134.44\n",
      "5    1459.24\n",
      "6     585.64\n",
      "7    2683.24\n",
      "8     492.84\n",
      "9     331.24\n",
      "Name: SqDev, dtype: float64\n",
      "   Sid     Name  Gender  Marks  Marks-mean    SqDev\n",
      "0    1      Sai    male     11       -41.8  1747.24\n",
      "1    2      Ram    male     21       -31.8  1011.24\n",
      "2    3   Krishn    male     31       -21.8   475.24\n",
      "3    4      Dev    male     51        -1.8     3.24\n",
      "4    5  Shrijal  female     99        46.2  2134.44\n",
      "5    6    Samya  female     91        38.2  1459.24\n",
      "6    7      Rao    male     77        24.2   585.64\n",
      "7    8      Adi    male      1       -51.8  2683.24\n",
      "8    9     Jaya  female     75        22.2   492.84\n",
      "9   10    Vijay    male     71        18.2   331.24\n",
      "Mean Square Deviation(variance) = 1092.3600000000001\n",
      "Mean Square Deviation(variance)= 1092.3600000000001\n",
      "Std.Deviation =  33.05086988265211\n",
      "1.0\n",
      "76.5\n"
     ]
    },
    {
     "data": {
      "text/plain": [
       "2.842170943040401e-14"
      ]
     },
     "execution_count": 44,
     "metadata": {},
     "output_type": "execute_result"
    }
   ],
   "source": [
    "import pandas as pd\n",
    "df = pd.read_excel(\"D:\\\\Data Science by SRK\\\\studentData.xlsx\")\n",
    "print(df)\n",
    "print(\"Mean =\",df['Marks'].mean())\n",
    "print(\"Median =\",df['Marks'].median())\n",
    "print(\"Minimum =\",df['Marks'].min())\n",
    "print(\"Maximum =\",df['Marks'].max())\n",
    "print(\"Range =\",(df['Marks'].max()-df['Marks'].min()))\n",
    "Deviation = (df['Marks']-df['Marks'].mean())\n",
    "print(\"Deviation =\",Deviation)\n",
    "df['Marks-mean'] = df['Marks']-df['Marks'].mean()\n",
    "print(df)\n",
    "print(\"Mean Deviation =\",df[\"Marks-mean\"].mean())\n",
    "df[\"SqDev\"] = Deviation*Deviation\n",
    "print(\"Square Deviation =\",df[\"SqDev\"])\n",
    "print(df)\n",
    "print(\"Mean Square Deviation(variance) =\",df['Marks'].var(ddof=0))\n",
    "print(\"Mean Square Deviation(variance)=\",df[\"SqDev\"].mean())\n",
    "print(\"Std.Deviation = \",df['Marks'].std(ddof=0))\n",
    "print(df['Marks'].quantile(0))\n",
    "print(df['Marks'].quantile(0.75))\n",
    "df['Marks'].median()\n",
    "Deviation.sum()"
   ]
  },
  {
   "cell_type": "code",
   "execution_count": 1,
   "id": "ef8c017f",
   "metadata": {},
   "outputs": [
    {
     "data": {
      "text/html": [
       "<div>\n",
       "<style scoped>\n",
       "    .dataframe tbody tr th:only-of-type {\n",
       "        vertical-align: middle;\n",
       "    }\n",
       "\n",
       "    .dataframe tbody tr th {\n",
       "        vertical-align: top;\n",
       "    }\n",
       "\n",
       "    .dataframe thead th {\n",
       "        text-align: right;\n",
       "    }\n",
       "</style>\n",
       "<table border=\"1\" class=\"dataframe\">\n",
       "  <thead>\n",
       "    <tr style=\"text-align: right;\">\n",
       "      <th></th>\n",
       "      <th>Sid</th>\n",
       "      <th>Name</th>\n",
       "      <th>Gender</th>\n",
       "      <th>Marks</th>\n",
       "    </tr>\n",
       "  </thead>\n",
       "  <tbody>\n",
       "    <tr>\n",
       "      <th>0</th>\n",
       "      <td>1</td>\n",
       "      <td>Sai</td>\n",
       "      <td>male</td>\n",
       "      <td>11</td>\n",
       "    </tr>\n",
       "    <tr>\n",
       "      <th>1</th>\n",
       "      <td>2</td>\n",
       "      <td>Ram</td>\n",
       "      <td>male</td>\n",
       "      <td>21</td>\n",
       "    </tr>\n",
       "    <tr>\n",
       "      <th>2</th>\n",
       "      <td>3</td>\n",
       "      <td>Krishn</td>\n",
       "      <td>male</td>\n",
       "      <td>31</td>\n",
       "    </tr>\n",
       "    <tr>\n",
       "      <th>3</th>\n",
       "      <td>4</td>\n",
       "      <td>Dev</td>\n",
       "      <td>male</td>\n",
       "      <td>51</td>\n",
       "    </tr>\n",
       "    <tr>\n",
       "      <th>4</th>\n",
       "      <td>5</td>\n",
       "      <td>Shrijal</td>\n",
       "      <td>female</td>\n",
       "      <td>99</td>\n",
       "    </tr>\n",
       "    <tr>\n",
       "      <th>5</th>\n",
       "      <td>6</td>\n",
       "      <td>Samya</td>\n",
       "      <td>female</td>\n",
       "      <td>91</td>\n",
       "    </tr>\n",
       "    <tr>\n",
       "      <th>6</th>\n",
       "      <td>7</td>\n",
       "      <td>Rao</td>\n",
       "      <td>male</td>\n",
       "      <td>77</td>\n",
       "    </tr>\n",
       "    <tr>\n",
       "      <th>7</th>\n",
       "      <td>8</td>\n",
       "      <td>Adi</td>\n",
       "      <td>male</td>\n",
       "      <td>1</td>\n",
       "    </tr>\n",
       "    <tr>\n",
       "      <th>8</th>\n",
       "      <td>9</td>\n",
       "      <td>Jaya</td>\n",
       "      <td>female</td>\n",
       "      <td>75</td>\n",
       "    </tr>\n",
       "    <tr>\n",
       "      <th>9</th>\n",
       "      <td>10</td>\n",
       "      <td>Vijay</td>\n",
       "      <td>male</td>\n",
       "      <td>71</td>\n",
       "    </tr>\n",
       "  </tbody>\n",
       "</table>\n",
       "</div>"
      ],
      "text/plain": [
       "   Sid     Name  Gender  Marks\n",
       "0    1      Sai    male     11\n",
       "1    2      Ram    male     21\n",
       "2    3   Krishn    male     31\n",
       "3    4      Dev    male     51\n",
       "4    5  Shrijal  female     99\n",
       "5    6    Samya  female     91\n",
       "6    7      Rao    male     77\n",
       "7    8      Adi    male      1\n",
       "8    9     Jaya  female     75\n",
       "9   10    Vijay    male     71"
      ]
     },
     "execution_count": 1,
     "metadata": {},
     "output_type": "execute_result"
    }
   ],
   "source": [
    "import pandas as pd\n",
    "df = pd.read_excel(\"D:\\\\Data Science by SRK\\\\studentData.xlsx\")\n",
    "df"
   ]
  },
  {
   "cell_type": "code",
   "execution_count": 2,
   "id": "dbb39e3c",
   "metadata": {},
   "outputs": [
    {
     "data": {
      "text/plain": [
       "0   -41.8\n",
       "1   -31.8\n",
       "2   -21.8\n",
       "3    -1.8\n",
       "4    46.2\n",
       "5    38.2\n",
       "6    24.2\n",
       "7   -51.8\n",
       "8    22.2\n",
       "9    18.2\n",
       "Name: Marks, dtype: float64"
      ]
     },
     "execution_count": 2,
     "metadata": {},
     "output_type": "execute_result"
    }
   ],
   "source": [
    "df[a\"] df[\"Marks\"] - df[\"Marks\"].mean()"
   ]
  },
  {
   "cell_type": "code",
   "execution_count": 21,
   "id": "90e74b69",
   "metadata": {},
   "outputs": [
    {
     "data": {
      "text/plain": [
       "13.5"
      ]
     },
     "execution_count": 21,
     "metadata": {},
     "output_type": "execute_result"
    }
   ],
   "source": [
    "import pandas as pd\n",
    "df = pd.DataFrame([1,10,15,25,12,20],columns =[\"values\"])\n",
    "df['values'].median()"
   ]
  },
  {
   "cell_type": "code",
   "execution_count": null,
   "id": "f68c1072",
   "metadata": {},
   "outputs": [],
   "source": []
  }
 ],
 "metadata": {
  "kernelspec": {
   "display_name": "Python 3 (ipykernel)",
   "language": "python",
   "name": "python3"
  },
  "language_info": {
   "codemirror_mode": {
    "name": "ipython",
    "version": 3
   },
   "file_extension": ".py",
   "mimetype": "text/x-python",
   "name": "python",
   "nbconvert_exporter": "python",
   "pygments_lexer": "ipython3",
   "version": "3.11.5"
  }
 },
 "nbformat": 4,
 "nbformat_minor": 5
}
