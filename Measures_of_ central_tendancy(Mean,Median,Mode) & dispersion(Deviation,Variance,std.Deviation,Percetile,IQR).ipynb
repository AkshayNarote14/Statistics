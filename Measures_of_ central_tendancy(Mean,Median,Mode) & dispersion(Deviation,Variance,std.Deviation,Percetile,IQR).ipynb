{
 "cells": [
  {
   "cell_type": "code",
   "execution_count": 1,
   "id": "f2db0c1d",
   "metadata": {},
   "outputs": [
    {
     "data": {
      "text/html": [
       "<div>\n",
       "<style scoped>\n",
       "    .dataframe tbody tr th:only-of-type {\n",
       "        vertical-align: middle;\n",
       "    }\n",
       "\n",
       "    .dataframe tbody tr th {\n",
       "        vertical-align: top;\n",
       "    }\n",
       "\n",
       "    .dataframe thead th {\n",
       "        text-align: right;\n",
       "    }\n",
       "</style>\n",
       "<table border=\"1\" class=\"dataframe\">\n",
       "  <thead>\n",
       "    <tr style=\"text-align: right;\">\n",
       "      <th></th>\n",
       "      <th>X</th>\n",
       "    </tr>\n",
       "  </thead>\n",
       "  <tbody>\n",
       "    <tr>\n",
       "      <th>0</th>\n",
       "      <td>10</td>\n",
       "    </tr>\n",
       "    <tr>\n",
       "      <th>1</th>\n",
       "      <td>25</td>\n",
       "    </tr>\n",
       "    <tr>\n",
       "      <th>2</th>\n",
       "      <td>25</td>\n",
       "    </tr>\n",
       "    <tr>\n",
       "      <th>3</th>\n",
       "      <td>65</td>\n",
       "    </tr>\n",
       "    <tr>\n",
       "      <th>4</th>\n",
       "      <td>34</td>\n",
       "    </tr>\n",
       "    <tr>\n",
       "      <th>5</th>\n",
       "      <td>31</td>\n",
       "    </tr>\n",
       "    <tr>\n",
       "      <th>6</th>\n",
       "      <td>20</td>\n",
       "    </tr>\n",
       "    <tr>\n",
       "      <th>7</th>\n",
       "      <td>33</td>\n",
       "    </tr>\n",
       "    <tr>\n",
       "      <th>8</th>\n",
       "      <td>32</td>\n",
       "    </tr>\n",
       "    <tr>\n",
       "      <th>9</th>\n",
       "      <td>50</td>\n",
       "    </tr>\n",
       "    <tr>\n",
       "      <th>10</th>\n",
       "      <td>27</td>\n",
       "    </tr>\n",
       "    <tr>\n",
       "      <th>11</th>\n",
       "      <td>15</td>\n",
       "    </tr>\n",
       "    <tr>\n",
       "      <th>12</th>\n",
       "      <td>17</td>\n",
       "    </tr>\n",
       "    <tr>\n",
       "      <th>13</th>\n",
       "      <td>42</td>\n",
       "    </tr>\n",
       "    <tr>\n",
       "      <th>14</th>\n",
       "      <td>29</td>\n",
       "    </tr>\n",
       "  </tbody>\n",
       "</table>\n",
       "</div>"
      ],
      "text/plain": [
       "     X\n",
       "0   10\n",
       "1   25\n",
       "2   25\n",
       "3   65\n",
       "4   34\n",
       "5   31\n",
       "6   20\n",
       "7   33\n",
       "8   32\n",
       "9   50\n",
       "10  27\n",
       "11  15\n",
       "12  17\n",
       "13  42\n",
       "14  29"
      ]
     },
     "execution_count": 1,
     "metadata": {},
     "output_type": "execute_result"
    }
   ],
   "source": [
    "import pandas as pd\n",
    "\n",
    "\n",
    "df = pd.DataFrame({'X':[10,25,25,65,34,31,20,33,32,50,27,15,17,42,29]})\n",
    "df"
   ]
  },
  {
   "cell_type": "code",
   "execution_count": 2,
   "id": "8d9b9d0d",
   "metadata": {},
   "outputs": [
    {
     "data": {
      "text/plain": [
       "30.0"
      ]
     },
     "execution_count": 2,
     "metadata": {},
     "output_type": "execute_result"
    }
   ],
   "source": [
    "# Mean\n",
    "df[\"X\"].mean().round(0)"
   ]
  },
  {
   "cell_type": "code",
   "execution_count": 3,
   "id": "0312670b",
   "metadata": {},
   "outputs": [
    {
     "data": {
      "text/plain": [
       "29.0"
      ]
     },
     "execution_count": 3,
     "metadata": {},
     "output_type": "execute_result"
    }
   ],
   "source": [
    "# Median\n",
    "df[\"X\"].median()"
   ]
  },
  {
   "cell_type": "code",
   "execution_count": 4,
   "id": "41382bed",
   "metadata": {},
   "outputs": [
    {
     "data": {
      "text/plain": [
       "25"
      ]
     },
     "execution_count": 4,
     "metadata": {},
     "output_type": "execute_result"
    }
   ],
   "source": [
    "# Mode\n",
    "df[\"X\"].mode()[0]"
   ]
  },
  {
   "cell_type": "code",
   "execution_count": 5,
   "id": "5c07b794",
   "metadata": {},
   "outputs": [
    {
     "data": {
      "text/plain": [
       "10"
      ]
     },
     "execution_count": 5,
     "metadata": {},
     "output_type": "execute_result"
    }
   ],
   "source": [
    "# min\n",
    "df[\"X\"].min()"
   ]
  },
  {
   "cell_type": "code",
   "execution_count": 6,
   "id": "56bca44c",
   "metadata": {},
   "outputs": [
    {
     "data": {
      "text/plain": [
       "65"
      ]
     },
     "execution_count": 6,
     "metadata": {},
     "output_type": "execute_result"
    }
   ],
   "source": [
    "# Max\n",
    "df[\"X\"].max()"
   ]
  },
  {
   "cell_type": "code",
   "execution_count": 7,
   "id": "60918936",
   "metadata": {},
   "outputs": [
    {
     "data": {
      "text/plain": [
       "55"
      ]
     },
     "execution_count": 7,
     "metadata": {},
     "output_type": "execute_result"
    }
   ],
   "source": [
    "# Range\n",
    "# Range = max - min\n",
    "df[\"X\"].max() - df[\"X\"].min()"
   ]
  },
  {
   "cell_type": "code",
   "execution_count": 8,
   "id": "5b494bf1",
   "metadata": {},
   "outputs": [
    {
     "data": {
      "text/plain": [
       "0    -20.0\n",
       "1     -5.0\n",
       "2     -5.0\n",
       "3     35.0\n",
       "4      4.0\n",
       "5      1.0\n",
       "6    -10.0\n",
       "7      3.0\n",
       "8      2.0\n",
       "9     20.0\n",
       "10    -3.0\n",
       "11   -15.0\n",
       "12   -13.0\n",
       "13    12.0\n",
       "14    -1.0\n",
       "Name: Xi-μ, dtype: float64"
      ]
     },
     "execution_count": 8,
     "metadata": {},
     "output_type": "execute_result"
    }
   ],
   "source": [
    "# Devaition(Xi-μ)\n",
    "df[\"Xi-μ\"] = df[\"X\"]-df[\"X\"].mean().round(0)\n",
    "df[\"Xi-μ\"]"
   ]
  },
  {
   "cell_type": "code",
   "execution_count": 9,
   "id": "a0712a6d",
   "metadata": {},
   "outputs": [
    {
     "data": {
      "text/plain": [
       "0.0"
      ]
     },
     "execution_count": 9,
     "metadata": {},
     "output_type": "execute_result"
    }
   ],
   "source": [
    "# Mean Deviation((Σ(Xi-μ))/N) is always Zero.\n",
    "\n",
    "mean_dev = df[\"Xi-μ\"].mean().round(0)\n",
    "mean_dev"
   ]
  },
  {
   "cell_type": "code",
   "execution_count": 10,
   "id": "1415f47c",
   "metadata": {},
   "outputs": [
    {
     "data": {
      "text/plain": [
       "183.42222222222227"
      ]
     },
     "execution_count": 10,
     "metadata": {},
     "output_type": "execute_result"
    }
   ],
   "source": [
    "# Mean Square Deviation((Σ(Xi-μ)**2)/N) which is also called as Variance\n",
    "# This variance is for Population Dataset\n",
    "variance = (((df[\"X\"]-df[\"X\"].mean())**2).sum())/len(df['X'])\n",
    "variance"
   ]
  },
  {
   "cell_type": "code",
   "execution_count": 11,
   "id": "38c29169",
   "metadata": {},
   "outputs": [
    {
     "data": {
      "text/plain": [
       "183.42222222222227"
      ]
     },
     "execution_count": 11,
     "metadata": {},
     "output_type": "execute_result"
    }
   ],
   "source": [
    "# When ddof=0, then that variance is for the Population dataset.\n",
    "(df[\"X\"].var(ddof=0))"
   ]
  },
  {
   "cell_type": "code",
   "execution_count": 12,
   "id": "9e55410b",
   "metadata": {},
   "outputs": [
    {
     "data": {
      "text/plain": [
       "13.54334604971099"
      ]
     },
     "execution_count": 12,
     "metadata": {},
     "output_type": "execute_result"
    }
   ],
   "source": [
    "import math as m\n",
    "\n",
    "# Root Mean Square Deviation(((Σ(Xi-μ)**2)/N)**1/2) which is also called as Standard Deviation\n",
    "# This Standard Deviation is for Population Dataset\n",
    "std_dev = m.sqrt((((df[\"X\"]-df[\"X\"].mean())**2).sum())/len(df['X']))\n",
    "std_dev "
   ]
  },
  {
   "cell_type": "code",
   "execution_count": 13,
   "id": "730b0ad8",
   "metadata": {},
   "outputs": [
    {
     "data": {
      "text/plain": [
       "13.54334604971099"
      ]
     },
     "execution_count": 13,
     "metadata": {},
     "output_type": "execute_result"
    }
   ],
   "source": [
    "# When ddof=0, then that Standard Deviation is for the Population dataset.\n",
    "df[\"X\"].std(ddof=0)"
   ]
  },
  {
   "cell_type": "code",
   "execution_count": null,
   "id": "48ea5c7f",
   "metadata": {},
   "outputs": [],
   "source": []
  },
  {
   "cell_type": "code",
   "execution_count": 14,
   "id": "f9c41787",
   "metadata": {},
   "outputs": [
    {
     "data": {
      "text/plain": [
       "196.52380952380958"
      ]
     },
     "execution_count": 14,
     "metadata": {},
     "output_type": "execute_result"
    }
   ],
   "source": [
    "# Mean Square Deviation((Σ(Xi-μ)**2)/(n-1)) which is also called as Variance\n",
    "# This variance is for Sample Dataset\n",
    "variance = (((df[\"X\"]-df[\"X\"].mean())**2).sum())/(len(df['X'])-1)\n",
    "variance"
   ]
  },
  {
   "cell_type": "code",
   "execution_count": 15,
   "id": "e447a3d5",
   "metadata": {},
   "outputs": [
    {
     "data": {
      "text/plain": [
       "196.52380952380958"
      ]
     },
     "execution_count": 15,
     "metadata": {},
     "output_type": "execute_result"
    }
   ],
   "source": [
    "# When ddof=1, then that variance is for the Sample dataset.\n",
    "(df[\"X\"].var(ddof=1))"
   ]
  },
  {
   "cell_type": "code",
   "execution_count": 16,
   "id": "418658b2",
   "metadata": {},
   "outputs": [
    {
     "data": {
      "text/plain": [
       "14.018695000741316"
      ]
     },
     "execution_count": 16,
     "metadata": {},
     "output_type": "execute_result"
    }
   ],
   "source": [
    "import math as m\n",
    "\n",
    "# Root Mean Square Deviation(((Σ(Xi-μ)**2)/N)**1/2) which is also called as Standard Deviation\n",
    "# This Standard Deviation is for Sample Dataset\n",
    "std_dev_s = m.sqrt((((df[\"X\"]-df[\"X\"].mean())**2).sum())/(len(df['X'])-1))\n",
    "std_dev_s "
   ]
  },
  {
   "cell_type": "code",
   "execution_count": 17,
   "id": "cb81fec7",
   "metadata": {},
   "outputs": [
    {
     "data": {
      "text/plain": [
       "14.018695000741316"
      ]
     },
     "execution_count": 17,
     "metadata": {},
     "output_type": "execute_result"
    }
   ],
   "source": [
    "# When ddof=1, then that variance is for the Sample dataset.\n",
    "(df[\"X\"].std(ddof=1))"
   ]
  },
  {
   "cell_type": "code",
   "execution_count": null,
   "id": "a3884bc7",
   "metadata": {},
   "outputs": [],
   "source": []
  },
  {
   "cell_type": "code",
   "execution_count": 18,
   "id": "174c615f",
   "metadata": {},
   "outputs": [
    {
     "data": {
      "text/plain": [
       "10.0"
      ]
     },
     "execution_count": 18,
     "metadata": {},
     "output_type": "execute_result"
    }
   ],
   "source": [
    "# Percentile or Quantile :- It describes the percentage of data values that fall at or below the value.\n",
    "# (means how many values are at or below the value out of all values.)\n",
    "\n",
    "df[\"X\"].quantile(0)  # It also called as minimum value."
   ]
  },
  {
   "cell_type": "code",
   "execution_count": 19,
   "id": "4ada9f49",
   "metadata": {},
   "outputs": [
    {
     "data": {
      "text/plain": [
       "10"
      ]
     },
     "execution_count": 19,
     "metadata": {},
     "output_type": "execute_result"
    }
   ],
   "source": [
    "df[\"X\"].min()"
   ]
  },
  {
   "cell_type": "code",
   "execution_count": 20,
   "id": "11e82074",
   "metadata": {},
   "outputs": [
    {
     "data": {
      "text/plain": [
       "22.5"
      ]
     },
     "execution_count": 20,
     "metadata": {},
     "output_type": "execute_result"
    }
   ],
   "source": [
    "# Quantile 1\n",
    "df[\"X\"].quantile(0.25)"
   ]
  },
  {
   "cell_type": "code",
   "execution_count": 21,
   "id": "f561b051",
   "metadata": {},
   "outputs": [
    {
     "data": {
      "text/plain": [
       "29.0"
      ]
     },
     "execution_count": 21,
     "metadata": {},
     "output_type": "execute_result"
    }
   ],
   "source": [
    "# Quantile 2\n",
    "df[\"X\"].quantile(0.50)  # It is also called as Median."
   ]
  },
  {
   "cell_type": "code",
   "execution_count": 22,
   "id": "8c047996",
   "metadata": {},
   "outputs": [
    {
     "data": {
      "text/plain": [
       "29.0"
      ]
     },
     "execution_count": 22,
     "metadata": {},
     "output_type": "execute_result"
    }
   ],
   "source": [
    "df[\"X\"].median()"
   ]
  },
  {
   "cell_type": "code",
   "execution_count": 23,
   "id": "ba6bd4b6",
   "metadata": {},
   "outputs": [
    {
     "data": {
      "text/plain": [
       "33.5"
      ]
     },
     "execution_count": 23,
     "metadata": {},
     "output_type": "execute_result"
    }
   ],
   "source": [
    "# Quantile 3\n",
    "df[\"X\"].quantile(0.75)"
   ]
  },
  {
   "cell_type": "code",
   "execution_count": 24,
   "id": "257124bb",
   "metadata": {},
   "outputs": [
    {
     "data": {
      "text/plain": [
       "65.0"
      ]
     },
     "execution_count": 24,
     "metadata": {},
     "output_type": "execute_result"
    }
   ],
   "source": [
    "# Quantile 4\n",
    "df[\"X\"].quantile(1)   # It is also called as Maximum."
   ]
  },
  {
   "cell_type": "code",
   "execution_count": 25,
   "id": "41aee6e7",
   "metadata": {},
   "outputs": [
    {
     "data": {
      "text/plain": [
       "65"
      ]
     },
     "execution_count": 25,
     "metadata": {},
     "output_type": "execute_result"
    }
   ],
   "source": [
    "df[\"X\"].max()"
   ]
  },
  {
   "cell_type": "code",
   "execution_count": 26,
   "id": "33f38221",
   "metadata": {},
   "outputs": [
    {
     "data": {
      "text/plain": [
       "44.6483935704758"
      ]
     },
     "execution_count": 26,
     "metadata": {},
     "output_type": "execute_result"
    }
   ],
   "source": [
    "# Coefficient of Variation(CV)((std_dev/μ)*100), It expressed in percentage\n",
    "# It is measure the variablity of dataset around its mean value.\n",
    "# This foe the Population Data.\n",
    "cv = (std_dev/df[\"X\"].mean())*100\n",
    "cv"
   ]
  },
  {
   "cell_type": "code",
   "execution_count": 27,
   "id": "279ce0e5",
   "metadata": {},
   "outputs": [
    {
     "data": {
      "text/plain": [
       "46.21547802442192"
      ]
     },
     "execution_count": 27,
     "metadata": {},
     "output_type": "execute_result"
    }
   ],
   "source": [
    "# This foe the Population Data.\n",
    "cv_s = (std_dev_s/df[\"X\"].mean())*100\n",
    "cv_s"
   ]
  },
  {
   "cell_type": "code",
   "execution_count": 28,
   "id": "354d0d9a",
   "metadata": {},
   "outputs": [
    {
     "data": {
      "text/plain": [
       "11.0"
      ]
     },
     "execution_count": 28,
     "metadata": {},
     "output_type": "execute_result"
    }
   ],
   "source": [
    "# Inner Quantile Range(IQR)= Q3 - Q1\n",
    "IQR = df[\"X\"].quantile(0.75)-df[\"X\"].quantile(0.25)\n",
    "IQR"
   ]
  },
  {
   "cell_type": "code",
   "execution_count": 29,
   "id": "026a308e",
   "metadata": {},
   "outputs": [
    {
     "data": {
      "text/plain": [
       "6.0"
      ]
     },
     "execution_count": 29,
     "metadata": {},
     "output_type": "execute_result"
    }
   ],
   "source": [
    "# Lower Limit = Q1 - (1.5*IQR)\n",
    "lower_limit = df[\"X\"].quantile(0.25) - (1.5*IQR)\n",
    "lower_limit"
   ]
  },
  {
   "cell_type": "code",
   "execution_count": 30,
   "id": "a224f4dc",
   "metadata": {},
   "outputs": [
    {
     "data": {
      "text/plain": [
       "50.0"
      ]
     },
     "execution_count": 30,
     "metadata": {},
     "output_type": "execute_result"
    }
   ],
   "source": [
    "# Upper Limit = Q3 + (1.5*IQR)\n",
    "upper_limit = df[\"X\"].quantile(0.75) + (1.5*IQR)\n",
    "upper_limit"
   ]
  },
  {
   "cell_type": "code",
   "execution_count": null,
   "id": "171ac391",
   "metadata": {},
   "outputs": [],
   "source": []
  },
  {
   "cell_type": "code",
   "execution_count": 31,
   "id": "362784ce",
   "metadata": {},
   "outputs": [
    {
     "data": {
      "text/plain": [
       "count    15.000000\n",
       "mean     30.333333\n",
       "std      14.018695\n",
       "min      10.000000\n",
       "25%      22.500000\n",
       "50%      29.000000\n",
       "75%      33.500000\n",
       "max      65.000000\n",
       "Name: X, dtype: float64"
      ]
     },
     "execution_count": 31,
     "metadata": {},
     "output_type": "execute_result"
    }
   ],
   "source": [
    "df[\"X\"].describe()   # It gives some measures of central dendancy and dispersion."
   ]
  },
  {
   "cell_type": "code",
   "execution_count": 2,
   "id": "0e20d902",
   "metadata": {},
   "outputs": [
    {
     "data": {
      "text/plain": [
       "1.0500693299587813"
      ]
     },
     "execution_count": 2,
     "metadata": {},
     "output_type": "execute_result"
    }
   ],
   "source": [
    "df[\"X\"].skew()"
   ]
  },
  {
   "cell_type": "code",
   "execution_count": 3,
   "id": "f8024d6b",
   "metadata": {},
   "outputs": [
    {
     "data": {
      "text/plain": [
       "<Axes: xlabel='X', ylabel='Count'>"
      ]
     },
     "execution_count": 3,
     "metadata": {},
     "output_type": "execute_result"
    },
    {
     "data": {
      "image/png": "[encoded data removed]",
      "text/plain": [
       "<Figure size 640x480 with 1 Axes>"
      ]
     },
     "metadata": {},
     "output_type": "display_data"
    }
   ],
   "source": [
    "import seaborn as sns\n",
    "sns.histplot(df[\"X\"])"
   ]
  },
  {
   "cell_type": "code",
   "execution_count": null,
   "id": "fbab47fd",
   "metadata": {},
   "outputs": [],
   "source": []
  }
 ],
 "metadata": {
  "kernelspec": {
   "display_name": "Python 3 (ipykernel)",
   "language": "python",
   "name": "python3"
  },
  "language_info": {
   "codemirror_mode": {
    "name": "ipython",
    "version": 3
   },
   "file_extension": ".py",
   "mimetype": "text/x-python",
   "name": "python",
   "nbconvert_exporter": "python",
   "pygments_lexer": "ipython3",
   "version": "3.11.5"
  }
 },
 "nbformat": 4,
 "nbformat_minor": 5
}
