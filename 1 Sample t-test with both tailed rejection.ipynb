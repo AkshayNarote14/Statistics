{
 "cells": [
  {
   "cell_type": "code",
   "execution_count": 1,
   "id": "12689e13",
   "metadata": {},
   "outputs": [
    {
     "data": {
      "text/html": [
       "<div>\n",
       "<style scoped>\n",
       "    .dataframe tbody tr th:only-of-type {\n",
       "        vertical-align: middle;\n",
       "    }\n",
       "\n",
       "    .dataframe tbody tr th {\n",
       "        vertical-align: top;\n",
       "    }\n",
       "\n",
       "    .dataframe thead th {\n",
       "        text-align: right;\n",
       "    }\n",
       "</style>\n",
       "<table border=\"1\" class=\"dataframe\">\n",
       "  <thead>\n",
       "    <tr style=\"text-align: right;\">\n",
       "      <th></th>\n",
       "      <th>Diameter</th>\n",
       "      <th>ex</th>\n",
       "    </tr>\n",
       "  </thead>\n",
       "  <tbody>\n",
       "    <tr>\n",
       "      <th>0</th>\n",
       "      <td>10.22</td>\n",
       "      <td>10</td>\n",
       "    </tr>\n",
       "    <tr>\n",
       "      <th>1</th>\n",
       "      <td>11.00</td>\n",
       "      <td>10</td>\n",
       "    </tr>\n",
       "    <tr>\n",
       "      <th>2</th>\n",
       "      <td>10.98</td>\n",
       "      <td>10</td>\n",
       "    </tr>\n",
       "    <tr>\n",
       "      <th>3</th>\n",
       "      <td>12.26</td>\n",
       "      <td>10</td>\n",
       "    </tr>\n",
       "    <tr>\n",
       "      <th>4</th>\n",
       "      <td>10.96</td>\n",
       "      <td>10</td>\n",
       "    </tr>\n",
       "    <tr>\n",
       "      <th>5</th>\n",
       "      <td>10.48</td>\n",
       "      <td>10</td>\n",
       "    </tr>\n",
       "    <tr>\n",
       "      <th>6</th>\n",
       "      <td>10.92</td>\n",
       "      <td>10</td>\n",
       "    </tr>\n",
       "    <tr>\n",
       "      <th>7</th>\n",
       "      <td>11.60</td>\n",
       "      <td>10</td>\n",
       "    </tr>\n",
       "    <tr>\n",
       "      <th>8</th>\n",
       "      <td>12.50</td>\n",
       "      <td>10</td>\n",
       "    </tr>\n",
       "    <tr>\n",
       "      <th>9</th>\n",
       "      <td>8.98</td>\n",
       "      <td>10</td>\n",
       "    </tr>\n",
       "    <tr>\n",
       "      <th>10</th>\n",
       "      <td>9.99</td>\n",
       "      <td>10</td>\n",
       "    </tr>\n",
       "    <tr>\n",
       "      <th>11</th>\n",
       "      <td>9.99</td>\n",
       "      <td>10</td>\n",
       "    </tr>\n",
       "    <tr>\n",
       "      <th>12</th>\n",
       "      <td>10.65</td>\n",
       "      <td>10</td>\n",
       "    </tr>\n",
       "    <tr>\n",
       "      <th>13</th>\n",
       "      <td>10.85</td>\n",
       "      <td>10</td>\n",
       "    </tr>\n",
       "    <tr>\n",
       "      <th>14</th>\n",
       "      <td>10.90</td>\n",
       "      <td>10</td>\n",
       "    </tr>\n",
       "    <tr>\n",
       "      <th>15</th>\n",
       "      <td>10.88</td>\n",
       "      <td>10</td>\n",
       "    </tr>\n",
       "    <tr>\n",
       "      <th>16</th>\n",
       "      <td>10.98</td>\n",
       "      <td>10</td>\n",
       "    </tr>\n",
       "    <tr>\n",
       "      <th>17</th>\n",
       "      <td>10.96</td>\n",
       "      <td>10</td>\n",
       "    </tr>\n",
       "    <tr>\n",
       "      <th>18</th>\n",
       "      <td>11.26</td>\n",
       "      <td>10</td>\n",
       "    </tr>\n",
       "    <tr>\n",
       "      <th>19</th>\n",
       "      <td>12.45</td>\n",
       "      <td>10</td>\n",
       "    </tr>\n",
       "  </tbody>\n",
       "</table>\n",
       "</div>"
      ],
      "text/plain": [
       "    Diameter  ex\n",
       "0      10.22  10\n",
       "1      11.00  10\n",
       "2      10.98  10\n",
       "3      12.26  10\n",
       "4      10.96  10\n",
       "5      10.48  10\n",
       "6      10.92  10\n",
       "7      11.60  10\n",
       "8      12.50  10\n",
       "9       8.98  10\n",
       "10      9.99  10\n",
       "11      9.99  10\n",
       "12     10.65  10\n",
       "13     10.85  10\n",
       "14     10.90  10\n",
       "15     10.88  10\n",
       "16     10.98  10\n",
       "17     10.96  10\n",
       "18     11.26  10\n",
       "19     12.45  10"
      ]
     },
     "execution_count": 1,
     "metadata": {},
     "output_type": "execute_result"
    }
   ],
   "source": [
    "import pandas as pd\n",
    "\n",
    "df = pd.read_excel(\"Bolt diameter.xlsx\")\n",
    "df"
   ]
  },
  {
   "cell_type": "markdown",
   "id": "2c9eb2a3",
   "metadata": {},
   "source": [
    "Given : n = 20, μ = 10mm, α = 0.1"
   ]
  },
  {
   "cell_type": "markdown",
   "id": "063b0c4d",
   "metadata": {},
   "source": [
    "#### Step-1 : Formulate the Hypothesis\n",
    "    - H0 : μ == 10mm\n",
    "    - H1 : μ != 10mm\n",
    "        "
   ]
  },
  {
   "cell_type": "markdown",
   "id": "17a2e715",
   "metadata": {},
   "source": [
    "#### Step-2 : Check alpha value \n",
    "i.e. α = 0.1\n",
    "    "
   ]
  },
  {
   "cell_type": "markdown",
   "id": "10614ec8",
   "metadata": {},
   "source": [
    "#### Step-3 : Check for Normality\n"
   ]
  },
  {
   "cell_type": "code",
   "execution_count": 6,
   "id": "09a9fd4b",
   "metadata": {},
   "outputs": [
    {
     "data": {
      "text/plain": [
       "0.009738124305753312"
      ]
     },
     "execution_count": 6,
     "metadata": {},
     "output_type": "execute_result"
    }
   ],
   "source": [
    "df[\"Diameter\"].skew()  # Skewness is lies between -1 to 1 so data is normally distributed."
   ]
  },
  {
   "cell_type": "markdown",
   "id": "bddf9db9",
   "metadata": {},
   "source": [
    "#### Step-4 : Select the test based on the problem statement\n",
    "\n",
    "- It is a 1 Sample t-test with both tailed test because we have identify population mean is equal or not and standard deviation is not given."
   ]
  },
  {
   "cell_type": "markdown",
   "id": "031b34f0",
   "metadata": {},
   "source": [
    "#### Step-5 : Calculate the P-value(Probability value) using z-test formulae."
   ]
  },
  {
   "cell_type": "code",
   "execution_count": 15,
   "id": "da455718",
   "metadata": {},
   "outputs": [
    {
     "data": {
      "text/plain": [
       "TtestResult(statistic=4.994230312195523, pvalue=8.05307069702133e-05, df=19)"
      ]
     },
     "execution_count": 15,
     "metadata": {},
     "output_type": "execute_result"
    }
   ],
   "source": [
    "from scipy import stats\n",
    "ttest = stats.ttest_1samp(df[\"Diameter\"],popmean=10,alternative=\"two-sided\")\n",
    "ttest"
   ]
  },
  {
   "cell_type": "code",
   "execution_count": 18,
   "id": "d8de3eef",
   "metadata": {},
   "outputs": [
    {
     "data": {
      "text/plain": [
       "TtestResult(statistic=nan, pvalue=nan, df=19)"
      ]
     },
     "execution_count": 18,
     "metadata": {},
     "output_type": "execute_result"
    }
   ],
   "source": [
    "from scipy import stats\n",
    "ttest = stats.ttest_1samp(df[\"ex\"],popmean=10)\n",
    "ttest"
   ]
  },
  {
   "cell_type": "markdown",
   "id": "4f2cab49",
   "metadata": {},
   "source": [
    "#### Step-6 : Check Based on calculated p-value, either accept or reject the null hypothesis.\n",
    "\n",
    "- As the p-value is less then the alpha (0.0000805 < 0.05), so p-value lies in rejection area\n",
    "- So, reject the Null Hypothesis and accept Alternative Hypothesis, means μ != 10mm so action is required."
   ]
  },
  {
   "cell_type": "code",
   "execution_count": null,
   "id": "ae0f7c7d",
   "metadata": {},
   "outputs": [],
   "source": []
  }
 ],
 "metadata": {
  "kernelspec": {
   "display_name": "Python 3 (ipykernel)",
   "language": "python",
   "name": "python3"
  },
  "language_info": {
   "codemirror_mode": {
    "name": "ipython",
    "version": 3
   },
   "file_extension": ".py",
   "mimetype": "text/x-python",
   "name": "python",
   "nbconvert_exporter": "python",
   "pygments_lexer": "ipython3",
   "version": "3.11.5"
  }
 },
 "nbformat": 4,
 "nbformat_minor": 5
}
