{
 "cells": [
  {
   "cell_type": "code",
   "execution_count": 2,
   "id": "bf6c2693",
   "metadata": {},
   "outputs": [
    {
     "data": {
      "text/html": [
       "<div>\n",
       "<style scoped>\n",
       "    .dataframe tbody tr th:only-of-type {\n",
       "        vertical-align: middle;\n",
       "    }\n",
       "\n",
       "    .dataframe tbody tr th {\n",
       "        vertical-align: top;\n",
       "    }\n",
       "\n",
       "    .dataframe thead th {\n",
       "        text-align: right;\n",
       "    }\n",
       "</style>\n",
       "<table border=\"1\" class=\"dataframe\">\n",
       "  <thead>\n",
       "    <tr style=\"text-align: right;\">\n",
       "      <th></th>\n",
       "      <th>Fabric_length</th>\n",
       "    </tr>\n",
       "  </thead>\n",
       "  <tbody>\n",
       "    <tr>\n",
       "      <th>0</th>\n",
       "      <td>151.2</td>\n",
       "    </tr>\n",
       "    <tr>\n",
       "      <th>1</th>\n",
       "      <td>160.3</td>\n",
       "    </tr>\n",
       "    <tr>\n",
       "      <th>2</th>\n",
       "      <td>147.5</td>\n",
       "    </tr>\n",
       "    <tr>\n",
       "      <th>3</th>\n",
       "      <td>149.2</td>\n",
       "    </tr>\n",
       "    <tr>\n",
       "      <th>4</th>\n",
       "      <td>159.2</td>\n",
       "    </tr>\n",
       "    <tr>\n",
       "      <th>5</th>\n",
       "      <td>155.6</td>\n",
       "    </tr>\n",
       "    <tr>\n",
       "      <th>6</th>\n",
       "      <td>148.1</td>\n",
       "    </tr>\n",
       "    <tr>\n",
       "      <th>7</th>\n",
       "      <td>154.8</td>\n",
       "    </tr>\n",
       "    <tr>\n",
       "      <th>8</th>\n",
       "      <td>156.8</td>\n",
       "    </tr>\n",
       "    <tr>\n",
       "      <th>9</th>\n",
       "      <td>167.5</td>\n",
       "    </tr>\n",
       "    <tr>\n",
       "      <th>10</th>\n",
       "      <td>164.5</td>\n",
       "    </tr>\n",
       "    <tr>\n",
       "      <th>11</th>\n",
       "      <td>147.9</td>\n",
       "    </tr>\n",
       "    <tr>\n",
       "      <th>12</th>\n",
       "      <td>154.1</td>\n",
       "    </tr>\n",
       "    <tr>\n",
       "      <th>13</th>\n",
       "      <td>159.4</td>\n",
       "    </tr>\n",
       "    <tr>\n",
       "      <th>14</th>\n",
       "      <td>147.5</td>\n",
       "    </tr>\n",
       "    <tr>\n",
       "      <th>15</th>\n",
       "      <td>148.2</td>\n",
       "    </tr>\n",
       "    <tr>\n",
       "      <th>16</th>\n",
       "      <td>154.2</td>\n",
       "    </tr>\n",
       "    <tr>\n",
       "      <th>17</th>\n",
       "      <td>148.1</td>\n",
       "    </tr>\n",
       "    <tr>\n",
       "      <th>18</th>\n",
       "      <td>163.1</td>\n",
       "    </tr>\n",
       "    <tr>\n",
       "      <th>19</th>\n",
       "      <td>155.2</td>\n",
       "    </tr>\n",
       "    <tr>\n",
       "      <th>20</th>\n",
       "      <td>154.6</td>\n",
       "    </tr>\n",
       "    <tr>\n",
       "      <th>21</th>\n",
       "      <td>155.4</td>\n",
       "    </tr>\n",
       "    <tr>\n",
       "      <th>22</th>\n",
       "      <td>158.2</td>\n",
       "    </tr>\n",
       "    <tr>\n",
       "      <th>23</th>\n",
       "      <td>157.6</td>\n",
       "    </tr>\n",
       "    <tr>\n",
       "      <th>24</th>\n",
       "      <td>158.4</td>\n",
       "    </tr>\n",
       "  </tbody>\n",
       "</table>\n",
       "</div>"
      ],
      "text/plain": [
       "    Fabric_length\n",
       "0           151.2\n",
       "1           160.3\n",
       "2           147.5\n",
       "3           149.2\n",
       "4           159.2\n",
       "5           155.6\n",
       "6           148.1\n",
       "7           154.8\n",
       "8           156.8\n",
       "9           167.5\n",
       "10          164.5\n",
       "11          147.9\n",
       "12          154.1\n",
       "13          159.4\n",
       "14          147.5\n",
       "15          148.2\n",
       "16          154.2\n",
       "17          148.1\n",
       "18          163.1\n",
       "19          155.2\n",
       "20          154.6\n",
       "21          155.4\n",
       "22          158.2\n",
       "23          157.6\n",
       "24          158.4"
      ]
     },
     "execution_count": 2,
     "metadata": {},
     "output_type": "execute_result"
    }
   ],
   "source": [
    "import pandas as pd\n",
    "import numpy as np\n",
    "\n",
    "df = pd.read_excel(\"Fabric data.xlsx\")\n",
    "df"
   ]
  },
  {
   "cell_type": "markdown",
   "id": "ea4d357d",
   "metadata": {},
   "source": [
    "- Given : n = 25, μ = 150cm, σ = 5.5cm, α = 0.05"
   ]
  },
  {
   "cell_type": "markdown",
   "id": "33ac077b",
   "metadata": {},
   "source": [
    "#### Step-1 : Formulate the Hypothesis\n",
    "    - H0 : μ == 150cm\n",
    "    - H1 : μ != 150cm\n",
    "        "
   ]
  },
  {
   "cell_type": "markdown",
   "id": "83f89bc8",
   "metadata": {},
   "source": [
    "#### Step-2 : Check alpha value \n",
    "i.e. α = 0.05\n",
    "    "
   ]
  },
  {
   "cell_type": "markdown",
   "id": "ad0f7419",
   "metadata": {},
   "source": [
    "#### Step-3 : Check for Normality\n"
   ]
  },
  {
   "cell_type": "code",
   "execution_count": 4,
   "id": "362bbe75",
   "metadata": {},
   "outputs": [
    {
     "data": {
      "text/plain": [
       "0.29650632012590666"
      ]
     },
     "execution_count": 4,
     "metadata": {},
     "output_type": "execute_result"
    }
   ],
   "source": [
    "df[\"Fabric_length\"].skew() "
   ]
  },
  {
   "cell_type": "markdown",
   "id": "efd8d59b",
   "metadata": {},
   "source": [
    "The skewness is between -1 to 1. So, the data is normally distributed."
   ]
  },
  {
   "cell_type": "markdown",
   "id": "544433dd",
   "metadata": {},
   "source": [
    "#### Step-4 : Select the test based on the problem statement\n",
    "\n",
    "- It is a 1 Sample Z-test with both tailed test because we have identify population mean is equal or not and standard deviation is given."
   ]
  },
  {
   "cell_type": "markdown",
   "id": "e3c17655",
   "metadata": {},
   "source": [
    "#### Step-5 : Calculate the P-value(Probability value) using z-test formulae."
   ]
  },
  {
   "cell_type": "code",
   "execution_count": 7,
   "id": "aff4d4a7",
   "metadata": {},
   "outputs": [
    {
     "data": {
      "text/plain": [
       "(4.581553935379281, 4.615335331740764e-06)"
      ]
     },
     "execution_count": 7,
     "metadata": {},
     "output_type": "execute_result"
    }
   ],
   "source": [
    "from statsmodels.stats.weightstats import ztest\n",
    "ztest = ztest(df[\"Fabric_length\"],value=150,alternative=\"two-sided\",ddof=0)\n",
    "ztest"
   ]
  },
  {
   "cell_type": "markdown",
   "id": "d3904d6c",
   "metadata": {},
   "source": [
    "#### or "
   ]
  },
  {
   "cell_type": "markdown",
   "id": "33594f69",
   "metadata": {},
   "source": [
    "#### ztest = (x̄ - μ)/(σ/√n)"
   ]
  },
  {
   "cell_type": "code",
   "execution_count": 11,
   "id": "7e553f52",
   "metadata": {},
   "outputs": [
    {
     "data": {
      "text/plain": [
       "4.603636363636356"
      ]
     },
     "execution_count": 11,
     "metadata": {},
     "output_type": "execute_result"
    }
   ],
   "source": [
    "from math import sqrt\n",
    "\n",
    "ztest = (df[\"Fabric_length\"].mean()-150)/(5.5/sqrt(25))\n",
    "ztest                                   "
   ]
  },
  {
   "cell_type": "markdown",
   "id": "ca8d84fa",
   "metadata": {},
   "source": [
    "#### Step-6 : Check Based on calculated p-value, either accept or reject the null hypothesis.\n",
    "\n",
    "- As the p-value is less then the alpha ( 4.60% < 5% or 0.00000461 < 0.05), so p-value lies in rejection area\n",
    "- So, reject the Null Hypothesis and accept Alternative Hypothesis, means μ != 150cm so action is required."
   ]
  },
  {
   "cell_type": "code",
   "execution_count": null,
   "id": "da00e50e",
   "metadata": {},
   "outputs": [],
   "source": []
  }
 ],
 "metadata": {
  "kernelspec": {
   "display_name": "Python 3 (ipykernel)",
   "language": "python",
   "name": "python3"
  },
  "language_info": {
   "codemirror_mode": {
    "name": "ipython",
    "version": 3
   },
   "file_extension": ".py",
   "mimetype": "text/x-python",
   "name": "python",
   "nbconvert_exporter": "python",
   "pygments_lexer": "ipython3",
   "version": "3.11.5"
  }
 },
 "nbformat": 4,
 "nbformat_minor": 5
}
